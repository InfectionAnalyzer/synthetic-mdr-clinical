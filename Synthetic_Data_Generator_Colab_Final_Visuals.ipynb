{
 "cells": [
  {
   "cell_type": "markdown",
   "id": "fd7e00e7",
   "metadata": {},
   "source": [
    "# Synthetic Clinical Data Generator\n",
    "This notebook demonstrates how to generate high-fidelity synthetic data using SDV's GaussianCopula or CTGAN models."
   ]
  },
  {
   "cell_type": "code",
   "execution_count": null,
   "id": "cf0985bc",
   "metadata": {},
   "outputs": [],
   "source": [
    "# Install required libraries\n",
    "!pip install sdv pandas scikit-learn"
   ]
  },
  {
   "cell_type": "markdown",
   "id": "0ebab6bd",
   "metadata": {},
   "source": [
    "## Upload Your Real Dataset"
   ]
  },
  {
   "cell_type": "code",
   "execution_count": null,
   "id": "a70fd9c9",
   "metadata": {},
   "outputs": [],
   "source": [
    "from google.colab import files\n",
    "uploaded = files.upload()\n",
    "\n",
    "import pandas as pd\n",
    "import io\n",
    "real_df = pd.read_csv(io.BytesIO(list(uploaded.values())[0]))\n",
    "real_df.head()"
   ]
  },
  {
   "cell_type": "markdown",
   "id": "336570dd",
   "metadata": {},
   "source": [
    "## Train Synthesizer and Generate Data"
   ]
  },
  {
   "cell_type": "code",
   "execution_count": null,
   "id": "bebf1df6",
   "metadata": {},
   "outputs": [],
   "source": [
    "from sdv.metadata import SingleTableMetadata\n",
    "from sdv.single_table import GaussianCopulaSynthesizer, CTGANSynthesizer\n",
    "\n",
    "method = 'gaussian'  # change to 'ctgan' if needed\n",
    "\n",
    "metadata = SingleTableMetadata()\n",
    "metadata.detect_from_dataframe(real_df)\n",
    "\n",
    "if method == 'gaussian':\n",
    "    synthesizer = GaussianCopulaSynthesizer(metadata)\n",
    "else:\n",
    "    synthesizer = CTGANSynthesizer(metadata)\n",
    "\n",
    "synthesizer.fit(real_df)\n",
    "synthetic_df = synthesizer.sample(num_rows=len(real_df))\n",
    "synthetic_df.head()"
   ]
  },
  {
   "cell_type": "markdown",
   "id": "8be60fb6",
   "metadata": {},
   "source": [
    "## Download Synthetic Dataset"
   ]
  },
  {
   "cell_type": "code",
   "execution_count": null,
   "id": "2882edbc",
   "metadata": {},
   "outputs": [],
   "source": [
    "synthetic_df.to_csv('synthetic_output.csv', index=False)\n",
    "files.download('synthetic_output.csv')"
   ]
  },
  {
   "cell_type": "markdown",
   "id": "99d1a7a4",
   "metadata": {},
   "source": [
    "## Visualize Original vs Synthetic Distributions"
   ]
  },
  {
   "cell_type": "code",
   "execution_count": null,
   "id": "d8f0a7a9",
   "metadata": {},
   "outputs": [],
   "source": [
    "import matplotlib.pyplot as plt\n",
    "\n",
    "# Select key variables\n",
    "columns_to_plot = ['Age', 'CRP', 'LOS', 'Audit_Score']\n",
    "for col in columns_to_plot:\n",
    "    plt.figure(figsize=(8, 4))\n",
    "    plt.hist(real_df[col], bins=20, alpha=0.6, label='Original', density=True)\n",
    "    plt.hist(synthetic_df[col], bins=20, alpha=0.6, label='Synthetic', density=True)\n",
    "    plt.title(f'Distribution Comparison: {col}')\n",
    "    plt.legend()\n",
    "    plt.grid(True)\n",
    "    plt.show()"
   ]
  },
  {
   "cell_type": "markdown",
   "id": "8dac4a4d",
   "metadata": {},
   "source": [
    "## Categorical Proportion Comparison"
   ]
  },
  {
   "cell_type": "code",
   "execution_count": null,
   "id": "53f5d073",
   "metadata": {},
   "outputs": [],
   "source": [
    "categorical_cols = ['MDR_Status', 'ICU_Transfer', 'Mortality', 'ESBL_Present']\n",
    "\n",
    "for col in categorical_cols:\n",
    "    plt.figure(figsize=(6, 4))\n",
    "    real_counts = real_df[col].value_counts(normalize=True)\n",
    "    synth_counts = synthetic_df[col].value_counts(normalize=True)\n",
    "    bar_width = 0.35\n",
    "    categories = sorted(set(real_counts.index).union(set(synth_counts.index)))\n",
    "    \n",
    "    real_vals = [real_counts.get(cat, 0) for cat in categories]\n",
    "    synth_vals = [synth_counts.get(cat, 0) for cat in categories]\n",
    "\n",
    "    x = range(len(categories))\n",
    "    plt.bar(x, real_vals, width=bar_width, label='Original', alpha=0.6)\n",
    "    plt.bar([p + bar_width for p in x], synth_vals, width=bar_width, label='Synthetic', alpha=0.6)\n",
    "    plt.xticks([p + bar_width/2 for p in x], categories)\n",
    "    plt.ylabel(\"Proportion\")\n",
    "    plt.title(f\"Proportion Comparison: {col}\")\n",
    "    plt.legend()\n",
    "    plt.grid(True)\n",
    "    plt.show()"
   ]
  },
  {
   "cell_type": "markdown",
   "id": "ba3c39d4",
   "metadata": {},
   "source": [
    "## Correlation Heatmaps (Numeric Variables)"
   ]
  },
  {
   "cell_type": "code",
   "execution_count": null,
   "id": "5bfa4b81",
   "metadata": {},
   "outputs": [],
   "source": [
    "import seaborn as sns\n",
    "\n",
    "numeric_cols = real_df.select_dtypes(include=['int64', 'float64']).columns\n",
    "\n",
    "plt.figure(figsize=(12, 5))\n",
    "plt.subplot(1, 2, 1)\n",
    "sns.heatmap(real_df[numeric_cols].corr(), annot=True, cmap='Blues')\n",
    "plt.title(\"Original Data Correlation\")\n",
    "\n",
    "plt.subplot(1, 2, 2)\n",
    "sns.heatmap(synthetic_df[numeric_cols].corr(), annot=True, cmap='Oranges')\n",
    "plt.title(\"Synthetic Data Correlation\")\n",
    "\n",
    "plt.tight_layout()\n",
    "plt.show()"
   ]
  },
  {
   "cell_type": "markdown",
   "id": "8a85a2af",
   "metadata": {},
   "source": [
    "## PCA and t-SNE Clustering Visualization"
   ]
  },
  {
   "cell_type": "code",
   "execution_count": null,
   "id": "091ecb05",
   "metadata": {},
   "outputs": [],
   "source": [
    "\n",
    "from sklearn.preprocessing import StandardScaler\n",
    "from sklearn.decomposition import PCA\n",
    "from sklearn.manifold import TSNE\n",
    "\n",
    "# Prepare numeric data\n",
    "numeric_data_real = real_df.select_dtypes(include=['float64', 'int64']).dropna()\n",
    "numeric_data_synth = synthetic_df.select_dtypes(include=['float64', 'int64']).dropna()\n",
    "\n",
    "# Align shapes\n",
    "min_len = min(len(numeric_data_real), len(numeric_data_synth))\n",
    "numeric_data_real = numeric_data_real.sample(min_len, random_state=42)\n",
    "numeric_data_synth = numeric_data_synth.sample(min_len, random_state=42)\n",
    "\n",
    "# Standardize\n",
    "scaler = StandardScaler()\n",
    "real_scaled = scaler.fit_transform(numeric_data_real)\n",
    "synth_scaled = scaler.transform(numeric_data_synth)\n",
    "\n",
    "# PCA\n",
    "pca = PCA(n_components=2)\n",
    "real_pca = pca.fit_transform(real_scaled)\n",
    "synth_pca = pca.transform(synth_scaled)\n",
    "\n",
    "# t-SNE\n",
    "tsne = TSNE(n_components=2, random_state=42, perplexity=30, n_iter=300)\n",
    "real_tsne = tsne.fit_transform(real_scaled)\n",
    "synth_tsne = tsne.fit_transform(synth_scaled)\n",
    "\n",
    "# Plot PCA\n",
    "plt.figure(figsize=(12, 5))\n",
    "plt.subplot(1, 2, 1)\n",
    "plt.scatter(real_pca[:, 0], real_pca[:, 1], alpha=0.6, label='Original', c='blue')\n",
    "plt.scatter(synth_pca[:, 0], synth_pca[:, 1], alpha=0.6, label='Synthetic', c='orange')\n",
    "plt.title(\"PCA: Original vs Synthetic\")\n",
    "plt.legend()\n",
    "\n",
    "# Plot t-SNE\n",
    "plt.subplot(1, 2, 2)\n",
    "plt.scatter(real_tsne[:, 0], real_tsne[:, 1], alpha=0.6, label='Original', c='green')\n",
    "plt.scatter(synth_tsne[:, 0], synth_tsne[:, 1], alpha=0.6, label='Synthetic', c='red')\n",
    "plt.title(\"t-SNE: Original vs Synthetic\")\n",
    "plt.legend()\n",
    "plt.tight_layout()\n",
    "plt.show()\n"
   ]
  }
 ],
 "metadata": {},
 "nbformat": 4,
 "nbformat_minor": 5
}
